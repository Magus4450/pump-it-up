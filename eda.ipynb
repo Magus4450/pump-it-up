{
 "cells": [
  {
   "cell_type": "markdown",
   "id": "2629109a",
   "metadata": {},
   "source": [
    "## Imports"
   ]
  },
  {
   "cell_type": "code",
   "execution_count": null,
   "id": "a79b8f3f",
   "metadata": {},
   "outputs": [],
   "source": [
    "import pandas as pd\n",
    "pd.set_option('display.max_columns', None)\n",
    "import numpy as np\n",
    "import seaborn as sns\n",
    "import matplotlib.pyplot as plt\n",
    "from sklearn.preprocessing import LabelEncoder"
   ]
  },
  {
   "cell_type": "markdown",
   "id": "9eaab073",
   "metadata": {},
   "source": [
    "## About the Data\n",
    "\n",
    "**Your goal is to predict the operating condition of a waterpoint for each record in the dataset.**\n",
    " \n",
    "- amount_tsh - Total static head (amount water available to waterpoint)\n",
    "- date_recorded - The date the row was entered\n",
    "- funder - Who funded the well\n",
    "- gps_height - Altitude of the well\n",
    "- installer - Organization that installed the well\n",
    "- longitude - GPS coordinate\n",
    "- latitude - GPS coordinate\n",
    "- wpt_name - Name of the waterpoint if there is one\n",
    "- num_private -\n",
    "- basin - Geographic water basin\n",
    "- subvillage - Geographic location\n",
    "- region - Geographic location\n",
    "- region_code - Geographic location (coded)\n",
    "- district_code - Geographic location (coded)\n",
    "- lga - Geographic location\n",
    "- ward - Geographic location\n",
    "- population - Population around the well\n",
    "- public_meeting - True/False\n",
    "- recorded_by - Group entering this row of data\n",
    "- scheme_management - Who operates the waterpoint\n",
    "- scheme_name - Who operates the waterpoint\n",
    "- permit - If the waterpoint is permitted\n",
    "- construction_year - Year the waterpoint was constructed\n",
    "- extraction_type - The kind of extraction the waterpoint uses\n",
    "- extraction_type_group - The kind of extraction the waterpoint uses\n",
    "- extraction_type_class - The kind of extraction the waterpoint uses\n",
    "- management - How the waterpoint is managed\n",
    "- management_group - How the waterpoint is managed\n",
    "- payment - What the water costs\n",
    "- payment_type - What the water costs\n",
    "- water_quality - The quality of the water\n",
    "- quality_group - The quality of the water\n",
    "- quantity - The quantity of water\n",
    "- quantity_group - The quantity of water\n",
    "- source - The source of the water\n",
    "- source_type - The source of the water\n",
    "- source_class - The source of the water\n",
    "- waterpoint_type - The kind of waterpoint\n",
    "- waterpoint_type_group - The kind of waterpoint"
   ]
  },
  {
   "cell_type": "code",
   "execution_count": null,
   "id": "1233bd8d",
   "metadata": {},
   "outputs": [],
   "source": [
    "train_values = pd.read_csv(\"data/train_set_values.csv\")\n",
    "train_labels = pd.read_csv(\"data/train_set_labels.csv\")\n",
    "\n",
    "train_df = pd.merge(train_values, train_labels, on=\"id\")\n",
    "print(train_df.shape)\n",
    "train_df.head()"
   ]
  },
  {
   "cell_type": "code",
   "execution_count": null,
   "id": "b0601fb5",
   "metadata": {},
   "outputs": [],
   "source": [
    "train_df[\"population\"].value_counts()"
   ]
  },
  {
   "cell_type": "code",
   "execution_count": null,
   "id": "e5f04708",
   "metadata": {},
   "outputs": [],
   "source": [
    "loc_cols = [\"district_code\", \"ward\"]\n",
    "\n",
    "\n",
    "# Invalid coordinates\n",
    "bad_lat = -2.000000e-08\n",
    "bad_lon = 0.000000\n",
    "\n",
    "mask = (train_df[\"latitude\"] == bad_lat) & (train_df[\"longitude\"] == bad_lon)\n",
    "group_means = (\n",
    "    train_df.loc[~mask]  # exclude bad values\n",
    "    .groupby(loc_cols)[[\"latitude\", \"longitude\"]]\n",
    "    .mean()\n",
    "    .reset_index()\n",
    ")"
   ]
  },
  {
   "cell_type": "code",
   "execution_count": null,
   "id": "bdc836e5",
   "metadata": {},
   "outputs": [],
   "source": [
    "group_means"
   ]
  },
  {
   "cell_type": "code",
   "execution_count": null,
   "id": "8e13bf4d",
   "metadata": {},
   "outputs": [],
   "source": [
    "train_df[\"permit\"].value_counts()"
   ]
  },
  {
   "cell_type": "code",
   "execution_count": null,
   "id": "8e5702cf",
   "metadata": {},
   "outputs": [],
   "source": [
    "train_df.isna().sum()"
   ]
  },
  {
   "cell_type": "code",
   "execution_count": null,
   "id": "f0c1f7dc",
   "metadata": {},
   "outputs": [],
   "source": [
    "train_df[\"public_meeting\"].value_counts()"
   ]
  },
  {
   "cell_type": "code",
   "execution_count": null,
   "id": "602fcf21",
   "metadata": {},
   "outputs": [],
   "source": [
    "train_df[\"funder\"].fillna(train_df[\"funder\"].mode().values[0], inplace=True)"
   ]
  },
  {
   "cell_type": "code",
   "execution_count": null,
   "id": "4b5a5dea",
   "metadata": {},
   "outputs": [],
   "source": [
    "train_df[train_df[\"longitude\"] == 0][[\"latitude\", \"longitude\"]]"
   ]
  },
  {
   "cell_type": "code",
   "execution_count": null,
   "id": "3207bc8b",
   "metadata": {},
   "outputs": [],
   "source": [
    "train_df[\"installer\"].value_counts()"
   ]
  },
  {
   "cell_type": "code",
   "execution_count": null,
   "id": "da4d454b",
   "metadata": {},
   "outputs": [],
   "source": [
    "train_df[[\"funder\", \"installer\"]]"
   ]
  },
  {
   "cell_type": "markdown",
   "id": "015f4cc7",
   "metadata": {},
   "source": [
    "## Target"
   ]
  },
  {
   "cell_type": "code",
   "execution_count": null,
   "id": "dc553abb",
   "metadata": {},
   "outputs": [],
   "source": [
    "target_vcs = train_df[\"status_group\"].value_counts()\n",
    "\n",
    "sns.set_theme('paper')\n",
    "sns.barplot(x=target_vcs.keys(), y=target_vcs, hue=target_vcs.keys())\n",
    "plt.title(\"Distribution of Target\")\n",
    "plt.xlabel(\"Status Group\")\n",
    "plt.ylabel(\"Count\")\n",
    "plt.show()"
   ]
  },
  {
   "cell_type": "markdown",
   "id": "0b92168f",
   "metadata": {},
   "source": [
    "**Inference:** The target value is skewed with 'functional needs repair' having the lest amount of samples. Techniques to handle imbalanced data will be required -> Oversampling, undersampling, weightage."
   ]
  },
  {
   "cell_type": "code",
   "execution_count": null,
   "id": "0897af7c",
   "metadata": {},
   "outputs": [],
   "source": [
    "train_df.columns"
   ]
  },
  {
   "cell_type": "code",
   "execution_count": null,
   "id": "12ff12d6",
   "metadata": {},
   "outputs": [],
   "source": [
    "top_n = 5\n",
    "vcs = train_df[\"source\"].value_counts()\n",
    "top_vcs = vcs.head(top_n)\n",
    "replace_w_other = lambda x: x if x in top_vcs.index else 'Other'\n",
    "train_df[\"source\"] = train_df[\"source\"].apply(replace_w_other)\n",
    "train_df.source.value_counts()"
   ]
  },
  {
   "cell_type": "code",
   "execution_count": null,
   "id": "852d6d12",
   "metadata": {},
   "outputs": [],
   "source": [
    "dummies = pd.get_dummies(train_df.source, prefix=\"source_\", drop_first=True)\n",
    "dummies.head()\n"
   ]
  },
  {
   "cell_type": "code",
   "execution_count": null,
   "id": "3bae8fd8",
   "metadata": {},
   "outputs": [],
   "source": [
    "train_df = pd.concat([train_df, dummies], axis=1)\n",
    "train_df.head()"
   ]
  },
  {
   "cell_type": "code",
   "execution_count": null,
   "metadata": {},
   "outputs": [],
   "source": [
    "numerical_cols = [\"amount_tsh\", \"gps_height\", \"longitude\", \"latitude\", \"population\", \"num_private\"]\n",
    "categorical_cols = [\"funder\", \"installer\", \"wpt_name\", \"basin\", \"subvillage\", \"region\", \"region_code\", \"district_code\", \"lga\", \"ward\", \"public_meeting\", \"scheme_management\", \"scheme_name\", \"permit\", \"extraction_type\", \"extraction_type_group\", \"extraction_type_class\", \"management\", \"management_group\", \"payment\", \"payment_type\", \"water_quality\", \"quality_group\", \"quantity\", \"quantity_group\", \"source\", \"source_type\", \"source_class\", \"waterpoint_type\", \"waterpoint_type_group\", \"recorded_by\"]\n",
    "date_cols = ['construction_year', 'date_recorded']\n",
    "target = \"status_group\"\n",
    "remaining_cols = set(train_df.columns) - set(numerical_cols) - set(categorical_cols) - set(date_cols) - set([target])\n",
    "print(remaining_cols)"
   ]
  },
  {
   "cell_type": "markdown",
   "id": "90e10257",
   "metadata": {},
   "source": [
    "## Distribution"
   ]
  },
  {
   "cell_type": "code",
   "execution_count": null,
   "id": "e59371df",
   "metadata": {},
   "outputs": [],
   "source": [
    "\n",
    "for col in numerical_cols:\n",
    "    fig, axes = plt.subplots(2, 2, figsize=(12, 8))  \n",
    "\n",
    "    # Original Histogram\n",
    "    sns.histplot(train_df[col], kde=True, ax=axes[0, 0], color='skyblue')\n",
    "    axes[0, 0].set_title(f\"Original Distribution of {col}\")\n",
    "    axes[0, 0].set_xlabel(col.capitalize())\n",
    "\n",
    "    # Log Histogram (only positive values)\n",
    "    sns.histplot(np.log(train_df[train_df[col] > 0][col]), kde=True, ax=axes[0, 1], color='salmon')\n",
    "    axes[0, 1].set_title(f\"Log Distribution of {col}\")\n",
    "    axes[0, 1].set_xlabel(f\"log({col})\")\n",
    "\n",
    "    # Original Violinplot\n",
    "    sns.violinplot(x=train_df[col], ax=axes[1, 0], color='skyblue')\n",
    "    axes[1, 0].set_title(f\"Original Violinplot of {col}\")\n",
    "    axes[1, 0].set_xlabel(col.capitalize())\n",
    "\n",
    "    # Log Violinplot (only positive values)\n",
    "    sns.violinplot(x=np.log(train_df[train_df[col] > 0][col]), ax=axes[1, 1], color='salmon')\n",
    "    axes[1, 1].set_title(f\"Log Violinplot of {col}\")\n",
    "    axes[1, 1].set_xlabel(f\"log({col})\")\n",
    "\n",
    "    plt.tight_layout()\n",
    "    plt.show()"
   ]
  },
  {
   "cell_type": "markdown",
   "id": "8c3ca012",
   "metadata": {},
   "source": [
    "- amount_tsh: lots of values near 0: log transform\n",
    "- gps_height: lots of values near 0: not right so fix with median?\n",
    "- lat and long: fix 0 values with region with external api\n",
    "- population: fix 0 (why would you build well near 0 population): also log transform\n",
    "- num_private: no info in website so idk"
   ]
  },
  {
   "cell_type": "code",
   "execution_count": null,
   "id": "cf98d96c",
   "metadata": {},
   "outputs": [],
   "source": [
    "\n",
    "top_n = 20  # for many-category columns\n",
    "\n",
    "for col in categorical_cols:\n",
    "    n_unique = train_df[col].nunique()\n",
    "    \n",
    "    if n_unique <= 20:\n",
    "        # Simple vertical bar plot\n",
    "        plt.figure(figsize=(8, 5))\n",
    "        vcs = train_df[col].value_counts().sort_values(ascending=False)\n",
    "        sns.barplot(x=vcs.index, y=vcs.values, palette=\"viridis\")\n",
    "        plt.xticks(rotation=45, ha=\"center\")\n",
    "        plt.title(f\"Distribution of {col}\", fontsize=14)\n",
    "        plt.xlabel(col, fontsize=12)\n",
    "        plt.ylabel(\"Count\", fontsize=12)\n",
    "        plt.tight_layout()\n",
    "        plt.show()\n",
    "        \n",
    "    else:\n",
    "        # Many categories → horizontal bar plot, top N + \"Other\"\n",
    "        vcs = train_df[col].value_counts()\n",
    "        top_vcs = vcs.head(top_n)\n",
    "        others_sum = vcs.iloc[top_n:].sum()\n",
    "        top_vcs['Other'] = others_sum\n",
    "        \n",
    "        plt.figure(figsize=(10, 6))\n",
    "        sns.barplot(x=top_vcs.values, y=top_vcs.index, palette=\"viridis\")\n",
    "        plt.xlabel(\"Count\")\n",
    "        plt.ylabel(col)\n",
    "        plt.title(f\"Top {top_n} {col} Categories + Other\")\n",
    "        plt.xscale(\"log\")  # log scale for better visibility of small counts\n",
    "        plt.tight_layout()\n",
    "        plt.show()"
   ]
  },
  {
   "cell_type": "markdown",
   "id": "95b7c4e1",
   "metadata": {},
   "source": [
    "- Lots of categories (collapse into other): >= 20?\n",
    "- Locations (only use lat and long): subvillage, region, region_code, district_code, lga, ward, "
   ]
  },
  {
   "cell_type": "code",
   "execution_count": null,
   "id": "d887b4df",
   "metadata": {},
   "outputs": [],
   "source": [
    "train_df[\"latitude\"].value_counts()"
   ]
  },
  {
   "cell_type": "code",
   "execution_count": null,
   "id": "a2cbb58a",
   "metadata": {},
   "outputs": [],
   "source": [
    "train_df[\"longitude\"].value_counts()"
   ]
  },
  {
   "cell_type": "code",
   "execution_count": null,
   "id": "b183da57",
   "metadata": {},
   "outputs": [],
   "source": [
    "train_df[[\"latitude\", \"longitude\"]].value_counts()"
   ]
  },
  {
   "cell_type": "code",
   "execution_count": null,
   "id": "b15ed612",
   "metadata": {},
   "outputs": [],
   "source": [
    "-2.000000e-08"
   ]
  },
  {
   "cell_type": "code",
   "execution_count": null,
   "id": "edddf516",
   "metadata": {},
   "outputs": [],
   "source": [
    "loc_cols = [\"subvillage\", \"region\", \"region_code\", \"district_code\", \"lga\", \"ward\"]\n",
    "\n",
    "\n",
    "# Define bad values\n",
    "bad_lat = -2.000000e-08\n",
    "bad_lon = 0.000000\n",
    "\n",
    "# Mask for rows with invalid coordinates\n",
    "mask = (train_df[\"latitude\"] == bad_lat) & (train_df[\"longitude\"] == bad_lon)\n",
    "\n",
    "# Compute group-wise means (ignoring bad values)\n",
    "group_means = (\n",
    "    train_df.loc[~mask]  # exclude bad values\n",
    "    .groupby(loc_cols)[[\"latitude\", \"longitude\"]]\n",
    "    .mean()\n",
    "    .reset_index()\n",
    ")\n",
    "\n",
    "# Merge means back into original df\n",
    "train_df = train_df.merge(group_means, on=loc_cols, how=\"left\", suffixes=(\"\", \"_mean\"))\n",
    "\n",
    "# Replace only invalid coords with group means\n",
    "train_df.loc[mask, \"latitude\"] = train_df.loc[mask, \"latitude_mean\"]\n",
    "train_df.loc[mask, \"longitude\"] = train_df.loc[mask, \"longitude_mean\"]\n",
    "\n",
    "# Drop helper columns\n",
    "train_df.drop(columns=[\"latitude_mean\", \"longitude_mean\"], inplace=True)"
   ]
  },
  {
   "cell_type": "code",
   "execution_count": null,
   "id": "d4cf0286",
   "metadata": {},
   "outputs": [],
   "source": [
    "train_df[[\"latitude\", \"longitude\"]].value_counts()"
   ]
  },
  {
   "cell_type": "markdown",
   "id": "74450f49",
   "metadata": {},
   "source": [
    "## Date"
   ]
  },
  {
   "cell_type": "code",
   "execution_count": null,
   "id": "b865fc08",
   "metadata": {},
   "outputs": [],
   "source": [
    "train_df[date_cols].head()"
   ]
  },
  {
   "cell_type": "markdown",
   "id": "c948317f",
   "metadata": {},
   "source": [
    "- One obvious feature is how long ago was the pump constructed"
   ]
  },
  {
   "cell_type": "code",
   "execution_count": null,
   "id": "3dd8c8ab",
   "metadata": {},
   "outputs": [],
   "source": [
    "train_df[\"construction_year\"].value_counts()[:10]"
   ]
  },
  {
   "cell_type": "markdown",
   "id": "81317c0d",
   "metadata": {},
   "source": [
    "- But most pumps do not have recorded construction date\n",
    "- We can use median imputer per region and management"
   ]
  },
  {
   "cell_type": "code",
   "execution_count": null,
   "id": "2d0981d2",
   "metadata": {},
   "outputs": [],
   "source": [
    "# Replace 0 with NaN\n",
    "train_df['construction_year'] = train_df['construction_year'].replace(0, np.nan)\n",
    "\n",
    "# Group medians (some groups may still become NaN if all values were 0)\n",
    "group_medians = (\n",
    "    train_df.groupby(['region', 'management'])['construction_year']\n",
    "    .transform('median')\n",
    ")\n",
    "\n",
    "# Fill missing with group median first\n",
    "train_df['construction_year'] = train_df['construction_year'].fillna(group_medians)\n",
    "\n",
    "# Fill any remaining NaNs with global median\n",
    "global_median = train_df['construction_year'].median()\n",
    "train_df['construction_year'] = train_df['construction_year'].fillna(global_median)"
   ]
  },
  {
   "cell_type": "code",
   "execution_count": null,
   "id": "860abbd7",
   "metadata": {},
   "outputs": [],
   "source": [
    "train_df[date_cols].isna().sum()"
   ]
  },
  {
   "cell_type": "code",
   "execution_count": null,
   "id": "5ec59ddd",
   "metadata": {},
   "outputs": [],
   "source": [
    "train_df[date_cols].head()"
   ]
  },
  {
   "cell_type": "code",
   "execution_count": null,
   "id": "44f66fdb",
   "metadata": {},
   "outputs": [],
   "source": [
    "train_df[\"construction_year\"].value_counts()"
   ]
  },
  {
   "cell_type": "code",
   "execution_count": null,
   "id": "6f8e8ab9",
   "metadata": {},
   "outputs": [],
   "source": [
    "train_df[\"construction_year\"] = train_df[\"construction_year\"].astype(int)"
   ]
  },
  {
   "cell_type": "code",
   "execution_count": null,
   "id": "dad26a89",
   "metadata": {},
   "outputs": [],
   "source": [
    "train_df[\"date_recorded\"] = pd.to_datetime(train_df[\"date_recorded\"], format=\"%Y-%m-%d\")"
   ]
  },
  {
   "cell_type": "code",
   "execution_count": null,
   "id": "4d6e6d68",
   "metadata": {},
   "outputs": [],
   "source": [
    "train_df[\"age\"] = train_df[\"construction_year\"] - train_df[\"date_recorded\"].dt.year"
   ]
  },
  {
   "cell_type": "markdown",
   "id": "5bedd413",
   "metadata": {},
   "source": [
    "## Correlation"
   ]
  },
  {
   "cell_type": "code",
   "execution_count": null,
   "id": "a14cd054",
   "metadata": {},
   "outputs": [],
   "source": [
    "train_df_encoded = train_df.copy(deep=True)\n",
    "\n",
    "for col in categorical_cols  + [target]:\n",
    "    train_df_encoded[col] = LabelEncoder().fit_transform(train_df_encoded[col])"
   ]
  },
  {
   "cell_type": "code",
   "execution_count": null,
   "id": "f7243143",
   "metadata": {},
   "outputs": [],
   "source": [
    "corr = train_df_encoded[numerical_cols + categorical_cols + [\"age\"] + [target]].corr()\n",
    "\n",
    "plt.figure(figsize=(12, 10))\n",
    "\n",
    "# Optional: mask upper triangle for cleaner look\n",
    "mask = np.triu(np.ones_like(corr, dtype=bool))\n",
    "\n",
    "sns.heatmap(corr, annot=False, cmap=\"coolwarm\", mask=mask, linewidths=0.5)\n",
    "plt.title(\"Correlation Heatmap\")\n",
    "plt.show()"
   ]
  },
  {
   "cell_type": "markdown",
   "id": "1fb19298",
   "metadata": {},
   "source": [
    "- lat and long correlated: probably because of 0 values\n",
    "- installer and funder: probably because the person who funds also installs\n",
    "- extraction_type and extraction_type_group and extraction_type_class: basically the same thing with more granularity: only use one\n",
    "- source/source_type correlated with all extraction: Maybe since soil is similar in the source -> we use the same extraction methodd?\n",
    "- payment_type and payment\n",
    "- management_group and management\n",
    "- quality and quality_group\n",
    "- source and source_type\n",
    "- waterpoint_type and water_point_type_group\n",
    "- very low correlation of all features with targer col"
   ]
  },
  {
   "cell_type": "code",
   "execution_count": null,
   "id": "4fea182b",
   "metadata": {},
   "outputs": [],
   "source": []
  },
  {
   "cell_type": "code",
   "execution_count": null,
   "id": "15afd729",
   "metadata": {},
   "outputs": [],
   "source": []
  },
  {
   "cell_type": "code",
   "execution_count": null,
   "id": "7677361b",
   "metadata": {},
   "outputs": [],
   "source": []
  }
 ],
 "metadata": {
  "kernelspec": {
   "display_name": "pump-it-up (3.13.2)",
   "language": "python",
   "name": "python3"
  },
  "language_info": {
   "codemirror_mode": {
    "name": "ipython",
    "version": 3
   },
   "file_extension": ".py",
   "mimetype": "text/x-python",
   "name": "python",
   "nbconvert_exporter": "python",
   "pygments_lexer": "ipython3",
   "version": "3.13.2"
  }
 },
 "nbformat": 4,
 "nbformat_minor": 5
}
